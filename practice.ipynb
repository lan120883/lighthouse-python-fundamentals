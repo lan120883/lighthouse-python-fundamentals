{
 "cells": [
  {
   "cell_type": "code",
   "execution_count": 6,
   "id": "4caaa8dc-d513-47a5-949e-abfc5a00a9e6",
   "metadata": {},
   "outputs": [],
   "source": [
    "def hello_func():\n",
    "    print ('Hello Function.')"
   ]
  },
  {
   "cell_type": "code",
   "execution_count": 4,
   "id": "e983d057-1da2-4ea5-9f23-3f43cb66d4cf",
   "metadata": {},
   "outputs": [
    {
     "data": {
      "text/plain": [
       "'Hello Function!'"
      ]
     },
     "execution_count": 4,
     "metadata": {},
     "output_type": "execute_result"
    }
   ],
   "source": [
    "hello_func()"
   ]
  },
  {
   "cell_type": "code",
   "execution_count": 8,
   "id": "dbdf71c9-3496-4b77-90e6-a5ace20466b8",
   "metadata": {},
   "outputs": [
    {
     "name": "stdout",
     "output_type": "stream",
     "text": [
      "Hello Function.\n",
      "Hello Function.\n",
      "Hello Function.\n",
      "Hello Function.\n"
     ]
    }
   ],
   "source": [
    "hello_func()\n",
    "hello_func()\n",
    "hello_func()\n",
    "hello_func()"
   ]
  },
  {
   "cell_type": "code",
   "execution_count": 9,
   "id": "edbd8808-f4a5-4314-962d-26072ecdcde3",
   "metadata": {},
   "outputs": [
    {
     "name": "stdout",
     "output_type": "stream",
     "text": [
      "Hello Function.\n"
     ]
    }
   ],
   "source": [
    "def hello_func():\n",
    "    return 'Hello Function.'\n",
    "print(hello_func())"
   ]
  },
  {
   "cell_type": "code",
   "execution_count": 10,
   "id": "6dbab890-5242-4b41-87e7-6f1aceced8e4",
   "metadata": {},
   "outputs": [
    {
     "name": "stdout",
     "output_type": "stream",
     "text": [
      "4\n"
     ]
    }
   ],
   "source": [
    "print((len('Test')))"
   ]
  },
  {
   "cell_type": "code",
   "execution_count": 11,
   "id": "1f0452d6-c8df-4bf5-bcab-ec238e3070b1",
   "metadata": {},
   "outputs": [
    {
     "name": "stdout",
     "output_type": "stream",
     "text": [
      "HELLO FUNCTION.\n"
     ]
    }
   ],
   "source": [
    "print(hello_func().upper())"
   ]
  },
  {
   "cell_type": "code",
   "execution_count": 16,
   "id": "29ecd450-d4a9-44f8-ac55-066fc5bb7393",
   "metadata": {},
   "outputs": [
    {
     "name": "stdout",
     "output_type": "stream",
     "text": [
      "Hi, You.\n"
     ]
    }
   ],
   "source": [
    "def hello_func(greeting, name = 'You'):\n",
    "    return '{}, {}.'.format(greeting, name)\n",
    "print(hello_func('Hi'))"
   ]
  },
  {
   "cell_type": "code",
   "execution_count": 17,
   "id": "beab96d7-f1ed-4970-ba61-c53710a30ffa",
   "metadata": {},
   "outputs": [
    {
     "name": "stdout",
     "output_type": "stream",
     "text": [
      "('Math', 'Art')\n",
      "{'name': 'John', 'age': 22}\n"
     ]
    }
   ],
   "source": [
    "def student_info(*args, **kwargs):\n",
    "    print(args)\n",
    "    print(kwargs)\n",
    "student_info('Math', 'Art', name = 'John', age = 22)"
   ]
  },
  {
   "cell_type": "code",
   "execution_count": 20,
   "id": "4fb731ee-4591-4dac-9e39-e5a41768f323",
   "metadata": {},
   "outputs": [
    {
     "name": "stdout",
     "output_type": "stream",
     "text": [
      "('Math', 'Art')\n",
      "{'name': 'John', 'age': 22}\n"
     ]
    }
   ],
   "source": [
    "courses = ['Math', 'Art']\n",
    "info = {'name': 'John', 'age':22}\n",
    "student_info(*courses, **info)"
   ]
  },
  {
   "cell_type": "code",
   "execution_count": null,
   "id": "4539f035-8055-4e9a-95ea-3efbb63b877e",
   "metadata": {},
   "outputs": [],
   "source": [
    "# Number of days per month. First value placeholder for indexing purposes."
   ]
  },
  {
   "cell_type": "code",
   "execution_count": 22,
   "id": "7255bf31-9772-4f83-9612-7d0c62b1ef21",
   "metadata": {},
   "outputs": [],
   "source": [
    "month_days = [0, 31,28, 31, 30, 31, 30, 31,31,30, 31, 30, 31]"
   ]
  },
  {
   "cell_type": "code",
   "execution_count": 23,
   "id": "a1877a35-690e-4983-937c-38a62e81059c",
   "metadata": {},
   "outputs": [],
   "source": [
    "def is_leap(year):\n",
    "    \"\"\"Return True for leap years, False for non-leap years.\"\"\"\n",
    "    return year % 4 == 0 and (year %  100 != 0 or year % 400 ==0)"
   ]
  },
  {
   "cell_type": "code",
   "execution_count": 25,
   "id": "0a8b90a6-4b30-484c-8fc8-32ef5a2313fd",
   "metadata": {},
   "outputs": [
    {
     "name": "stdout",
     "output_type": "stream",
     "text": [
      "28\n"
     ]
    }
   ],
   "source": [
    "def days_in_month(year, month):\n",
    "    \"\"\"Return number of days in that month in that year.\"\"\"\n",
    "    # year 2017\n",
    "    # month 2\n",
    "    \n",
    "    if not 1 <= month <= 12:\n",
    "        return 'Invalid Month'\n",
    "    if month == 2 and is_leap(year):\n",
    "        return 29\n",
    "    return month_days[month]\n",
    "print(days_in_month(2017, 2))"
   ]
  },
  {
   "cell_type": "code",
   "execution_count": 26,
   "id": "5bcf8ee6-e666-4b30-a24d-96b42fc00262",
   "metadata": {},
   "outputs": [],
   "source": [
    "import numpy as np"
   ]
  },
  {
   "cell_type": "code",
   "execution_count": null,
   "id": "45560b99-c0d8-4fe1-8b80-546b48e2e60d",
   "metadata": {},
   "outputs": [],
   "source": []
  },
  {
   "cell_type": "code",
   "execution_count": 38,
   "id": "b0ad54dc-a82a-4c2a-9c5a-be2122801bbb",
   "metadata": {},
   "outputs": [
    {
     "name": "stdout",
     "output_type": "stream",
     "text": [
      "[1 2 3]\n"
     ]
    }
   ],
   "source": [
    "a = np.array([1,2,3], dtype = 'int16')\n",
    "print(a)"
   ]
  },
  {
   "cell_type": "code",
   "execution_count": null,
   "id": "ce3699b5-dbe2-489d-87b4-1d262c7ebc22",
   "metadata": {},
   "outputs": [],
   "source": []
  },
  {
   "cell_type": "code",
   "execution_count": null,
   "id": "1145fced-f171-4952-95f4-f128a185941c",
   "metadata": {},
   "outputs": [],
   "source": []
  },
  {
   "cell_type": "code",
   "execution_count": 30,
   "id": "ab3e782b-61c1-4928-bd63-c8128f3cb7a0",
   "metadata": {},
   "outputs": [
    {
     "name": "stdout",
     "output_type": "stream",
     "text": [
      "[[9. 8. 7.]\n",
      " [6. 5. 4.]]\n"
     ]
    }
   ],
   "source": [
    "b = np.array([[9.0,8.0,7.0], [6.0,5.0,4.0]])\n",
    "print(b)"
   ]
  },
  {
   "cell_type": "code",
   "execution_count": 32,
   "id": "56715111-1ae5-4272-beca-4690dd8cd5b4",
   "metadata": {},
   "outputs": [
    {
     "data": {
      "text/plain": [
       "2"
      ]
     },
     "execution_count": 32,
     "metadata": {},
     "output_type": "execute_result"
    }
   ],
   "source": [
    "# Get Dimension\n",
    "b.ndim"
   ]
  },
  {
   "cell_type": "code",
   "execution_count": 34,
   "id": "1d704f98-7348-452e-a1e6-4669c21974a1",
   "metadata": {},
   "outputs": [
    {
     "data": {
      "text/plain": [
       "(2, 3)"
      ]
     },
     "execution_count": 34,
     "metadata": {},
     "output_type": "execute_result"
    }
   ],
   "source": [
    "# Get Shape\n",
    "b.shape\n"
   ]
  },
  {
   "cell_type": "code",
   "execution_count": 39,
   "id": "06b0a3a1-e2eb-42c3-b345-845d5a71fb48",
   "metadata": {},
   "outputs": [
    {
     "data": {
      "text/plain": [
       "dtype('int16')"
      ]
     },
     "execution_count": 39,
     "metadata": {},
     "output_type": "execute_result"
    }
   ],
   "source": [
    "#Get Type\n",
    "a.dtype"
   ]
  },
  {
   "cell_type": "code",
   "execution_count": 44,
   "id": "bff7d697-2748-4f10-8c0c-f7682432c534",
   "metadata": {},
   "outputs": [
    {
     "data": {
      "text/plain": [
       "8"
      ]
     },
     "execution_count": 44,
     "metadata": {},
     "output_type": "execute_result"
    }
   ],
   "source": [
    "# Get Size\n",
    "a.itemsize\n",
    "b.itemsize"
   ]
  },
  {
   "cell_type": "code",
   "execution_count": 45,
   "id": "ec5fa11e-6c5f-4834-8045-6c16c3866470",
   "metadata": {},
   "outputs": [
    {
     "data": {
      "text/plain": [
       "6"
      ]
     },
     "execution_count": 45,
     "metadata": {},
     "output_type": "execute_result"
    }
   ],
   "source": [
    "# Get total size\n",
    "a.nbytes"
   ]
  },
  {
   "cell_type": "code",
   "execution_count": 50,
   "id": "1070f243-69da-447c-8e1d-bc78f5c3b47c",
   "metadata": {},
   "outputs": [
    {
     "name": "stdout",
     "output_type": "stream",
     "text": [
      "[[ 1  2  3  4  5  6  7]\n",
      " [ 8  9 10 11 12 13 14]]\n"
     ]
    }
   ],
   "source": [
    "a = np.array([[1,2,3,4,5,6,7], [8,9,10,11,12,13,14]])\n",
    "print(a)"
   ]
  },
  {
   "cell_type": "code",
   "execution_count": 51,
   "id": "f8e47ab6-48f2-4f36-abd0-edda0b07f11b",
   "metadata": {},
   "outputs": [
    {
     "data": {
      "text/plain": [
       "13"
      ]
     },
     "execution_count": 51,
     "metadata": {},
     "output_type": "execute_result"
    }
   ],
   "source": [
    "# Get a specific element [r, c]\n",
    "a[1, 5]"
   ]
  },
  {
   "cell_type": "code",
   "execution_count": 52,
   "id": "3fd6a355-f0a8-449e-99a1-9a78dd0a333a",
   "metadata": {},
   "outputs": [
    {
     "data": {
      "text/plain": [
       "array([1, 2, 3, 4, 5, 6, 7])"
      ]
     },
     "execution_count": 52,
     "metadata": {},
     "output_type": "execute_result"
    }
   ],
   "source": [
    "# Get a specific row\n",
    "a[0,:]"
   ]
  },
  {
   "cell_type": "code",
   "execution_count": 53,
   "id": "2fe65ba7-b8f3-4b4b-8ae6-1886948fc0e0",
   "metadata": {},
   "outputs": [
    {
     "data": {
      "text/plain": [
       "array([ 3, 10])"
      ]
     },
     "execution_count": 53,
     "metadata": {},
     "output_type": "execute_result"
    }
   ],
   "source": [
    "# get a specific column\n",
    "a[:,2]"
   ]
  },
  {
   "cell_type": "code",
   "execution_count": 54,
   "id": "94c374e5-046a-4fb8-b1a0-c0ebe1c0f61e",
   "metadata": {},
   "outputs": [
    {
     "data": {
      "text/plain": [
       "array([2, 4, 6])"
      ]
     },
     "execution_count": 54,
     "metadata": {},
     "output_type": "execute_result"
    }
   ],
   "source": [
    "# Getting a little more fancy [startindex:endindex:setpsize]\n",
    "a[0, 1:6:2]"
   ]
  },
  {
   "cell_type": "code",
   "execution_count": 56,
   "id": "51de08b7-0985-423d-a584-5f081ed3940d",
   "metadata": {},
   "outputs": [
    {
     "name": "stdout",
     "output_type": "stream",
     "text": [
      "[[ 1  2  3  4  5  6  7]\n",
      " [ 8  9 10 11 12 20 14]]\n",
      "[[ 1  2  5  4  5  6  7]\n",
      " [ 8  9  5 11 12 20 14]]\n"
     ]
    }
   ],
   "source": [
    "a[1,5] = 20\n",
    "print(a)\n",
    "a[:,2] = 5\n",
    "print(a)"
   ]
  },
  {
   "cell_type": "code",
   "execution_count": null,
   "id": "68dd1465-7586-4ee2-aace-bc1769eb378b",
   "metadata": {},
   "outputs": [],
   "source": [
    "* 3-d example"
   ]
  },
  {
   "cell_type": "code",
   "execution_count": 57,
   "id": "b6fe1ddc-4620-4ce1-be5f-67a90f80578e",
   "metadata": {},
   "outputs": [
    {
     "name": "stdout",
     "output_type": "stream",
     "text": [
      "[[[1 2]\n",
      "  [3 4]\n",
      "  [5 6]\n",
      "  [7 8]]]\n"
     ]
    }
   ],
   "source": [
    "b = np.array([[[1,2], [3,4],[5,6], [7,8]]])\n",
    "print(b)"
   ]
  },
  {
   "cell_type": "code",
   "execution_count": 60,
   "id": "fbadba48-9073-45aa-ba68-ec2af50e1c39",
   "metadata": {},
   "outputs": [
    {
     "data": {
      "text/plain": [
       "4"
      ]
     },
     "execution_count": 60,
     "metadata": {},
     "output_type": "execute_result"
    }
   ],
   "source": [
    "# Get specific element (work outside in)\n",
    "b[0,1,1]"
   ]
  },
  {
   "cell_type": "code",
   "execution_count": 61,
   "id": "6c8c1f06-826f-4ac7-871e-7ab3d44ea715",
   "metadata": {},
   "outputs": [
    {
     "ename": "ValueError",
     "evalue": "could not broadcast input array from shape (2,3) into shape (1,2)",
     "output_type": "error",
     "traceback": [
      "\u001b[1;31m---------------------------------------------------------------------------\u001b[0m",
      "\u001b[1;31mValueError\u001b[0m                                Traceback (most recent call last)",
      "\u001b[1;32m<ipython-input-61-c26e00b563f1>\u001b[0m in \u001b[0;36m<module>\u001b[1;34m\u001b[0m\n\u001b[0;32m      1\u001b[0m \u001b[1;31m# replace\u001b[0m\u001b[1;33m\u001b[0m\u001b[1;33m\u001b[0m\u001b[1;33m\u001b[0m\u001b[0m\n\u001b[1;32m----> 2\u001b[1;33m \u001b[0mb\u001b[0m\u001b[1;33m[\u001b[0m\u001b[1;33m:\u001b[0m\u001b[1;33m,\u001b[0m\u001b[1;36m1\u001b[0m\u001b[1;33m,\u001b[0m\u001b[1;33m:\u001b[0m\u001b[1;33m]\u001b[0m \u001b[1;33m=\u001b[0m \u001b[1;33m[\u001b[0m\u001b[1;33m[\u001b[0m\u001b[1;36m9\u001b[0m\u001b[1;33m,\u001b[0m\u001b[1;36m9\u001b[0m\u001b[1;33m,\u001b[0m\u001b[1;36m9\u001b[0m\u001b[1;33m]\u001b[0m\u001b[1;33m,\u001b[0m \u001b[1;33m[\u001b[0m\u001b[1;36m8\u001b[0m\u001b[1;33m,\u001b[0m\u001b[1;36m8\u001b[0m\u001b[1;33m,\u001b[0m\u001b[1;36m8\u001b[0m\u001b[1;33m]\u001b[0m\u001b[1;33m]\u001b[0m\u001b[1;33m\u001b[0m\u001b[1;33m\u001b[0m\u001b[0m\n\u001b[0m",
      "\u001b[1;31mValueError\u001b[0m: could not broadcast input array from shape (2,3) into shape (1,2)"
     ]
    }
   ],
   "source": [
    "# replace\n",
    "b[:,1,:] = [[9,9,9], [8,8,8]]"
   ]
  },
  {
   "cell_type": "code",
   "execution_count": 62,
   "id": "997bf754-11e2-432e-ae98-b885285f9005",
   "metadata": {},
   "outputs": [
    {
     "data": {
      "text/plain": [
       "array([[[[0., 0.],\n",
       "         [0., 0.],\n",
       "         [0., 0.]],\n",
       "\n",
       "        [[0., 0.],\n",
       "         [0., 0.],\n",
       "         [0., 0.]],\n",
       "\n",
       "        [[0., 0.],\n",
       "         [0., 0.],\n",
       "         [0., 0.]]],\n",
       "\n",
       "\n",
       "       [[[0., 0.],\n",
       "         [0., 0.],\n",
       "         [0., 0.]],\n",
       "\n",
       "        [[0., 0.],\n",
       "         [0., 0.],\n",
       "         [0., 0.]],\n",
       "\n",
       "        [[0., 0.],\n",
       "         [0., 0.],\n",
       "         [0., 0.]]]])"
      ]
     },
     "execution_count": 62,
     "metadata": {},
     "output_type": "execute_result"
    }
   ],
   "source": [
    "# All 0s matrix\n",
    "np.zeros((2,3,3,2))"
   ]
  },
  {
   "cell_type": "code",
   "execution_count": 64,
   "id": "16eb95c1-0cb0-409a-b416-5292403b93c8",
   "metadata": {},
   "outputs": [
    {
     "data": {
      "text/plain": [
       "array([[[1, 1],\n",
       "        [1, 1]],\n",
       "\n",
       "       [[1, 1],\n",
       "        [1, 1]],\n",
       "\n",
       "       [[1, 1],\n",
       "        [1, 1]],\n",
       "\n",
       "       [[1, 1],\n",
       "        [1, 1]]])"
      ]
     },
     "execution_count": 64,
     "metadata": {},
     "output_type": "execute_result"
    }
   ],
   "source": [
    "# All 1s matrix\n",
    "np.ones((4,2,2), dtype='int32')"
   ]
  },
  {
   "cell_type": "code",
   "execution_count": 66,
   "id": "8e3a5fe4-cf97-4f7d-8e5c-30c1ec29f852",
   "metadata": {},
   "outputs": [
    {
     "data": {
      "text/plain": [
       "array([[99., 99.],\n",
       "       [99., 99.]], dtype=float32)"
      ]
     },
     "execution_count": 66,
     "metadata": {},
     "output_type": "execute_result"
    }
   ],
   "source": [
    "# Any other number\n",
    "np.full((2,2), 99,dtype = 'float32')"
   ]
  },
  {
   "cell_type": "code",
   "execution_count": null,
   "id": "e3b41941-bde6-4455-a13f-c863bbfb86f2",
   "metadata": {},
   "outputs": [],
   "source": []
  },
  {
   "cell_type": "code",
   "execution_count": 69,
   "id": "927d99f9-dfa3-4c0f-b440-9150693c8337",
   "metadata": {},
   "outputs": [
    {
     "data": {
      "text/plain": [
       "array([4, 4])"
      ]
     },
     "execution_count": 69,
     "metadata": {},
     "output_type": "execute_result"
    }
   ],
   "source": [
    "# any other number (full_like)\n",
    "np.full_like(a.shape,4)"
   ]
  },
  {
   "cell_type": "code",
   "execution_count": 70,
   "id": "ba398922-7807-4656-91b9-a95e6670b931",
   "metadata": {},
   "outputs": [
    {
     "data": {
      "text/plain": [
       "array([[0.66672379, 0.43827577],\n",
       "       [0.32400261, 0.6397138 ],\n",
       "       [0.67823342, 0.28622072],\n",
       "       [0.82802669, 0.96150811]])"
      ]
     },
     "execution_count": 70,
     "metadata": {},
     "output_type": "execute_result"
    }
   ],
   "source": [
    "# Random decimal numbers\n",
    "np.random.rand(4,2)"
   ]
  },
  {
   "cell_type": "code",
   "execution_count": 71,
   "id": "49e7eef9-b560-4880-ba58-3872143a5b53",
   "metadata": {},
   "outputs": [
    {
     "data": {
      "text/plain": [
       "array([[6, 6, 3],\n",
       "       [4, 2, 3],\n",
       "       [1, 0, 5]])"
      ]
     },
     "execution_count": 71,
     "metadata": {},
     "output_type": "execute_result"
    }
   ],
   "source": [
    "# Random Integer values\n",
    "np.random.randint(7,size = (3,3))"
   ]
  },
  {
   "cell_type": "code",
   "execution_count": 72,
   "id": "cf36d93f-2eb6-40c2-bc31-8ca9d4af8c32",
   "metadata": {},
   "outputs": [
    {
     "name": "stdout",
     "output_type": "stream",
     "text": [
      "[[1 2 3]\n",
      " [1 2 3]\n",
      " [1 2 3]]\n"
     ]
    }
   ],
   "source": [
    "arr = np.array([[1,2,3]])\n",
    "r1 = np.repeat(arr,3, axis = 0)\n",
    "print(r1)"
   ]
  },
  {
   "cell_type": "code",
   "execution_count": 75,
   "id": "e65b4d32-0271-4eb7-8bc8-4d2396c5c9b1",
   "metadata": {},
   "outputs": [
    {
     "name": "stdout",
     "output_type": "stream",
     "text": [
      "[[1. 1. 1. 1. 1.]\n",
      " [1. 1. 1. 1. 1.]\n",
      " [1. 1. 1. 1. 1.]\n",
      " [1. 1. 1. 1. 1.]\n",
      " [1. 1. 1. 1. 1.]]\n",
      "[[0. 0. 0.]\n",
      " [0. 9. 0.]\n",
      " [0. 0. 0.]]\n",
      "[[1. 1. 1. 1. 1.]\n",
      " [1. 0. 0. 0. 1.]\n",
      " [1. 0. 9. 0. 1.]\n",
      " [1. 0. 0. 0. 1.]\n",
      " [1. 1. 1. 1. 1.]]\n"
     ]
    }
   ],
   "source": [
    "output = np.ones((5,5))\n",
    "print(output)\n",
    "z = np.zeros((3,3))\n",
    "z[1,1] = 9\n",
    "print(z)\n",
    "\n",
    "output[1:4,1:4] = z\n",
    "print(output)"
   ]
  },
  {
   "cell_type": "code",
   "execution_count": null,
   "id": "56708638-eb48-4181-a16f-81e9abe0fe82",
   "metadata": {},
   "outputs": [],
   "source": [
    "# Becareful when copying arrays!"
   ]
  },
  {
   "cell_type": "code",
   "execution_count": 78,
   "id": "49dac436-7954-40f4-b1d7-91553dddf676",
   "metadata": {},
   "outputs": [
    {
     "name": "stdout",
     "output_type": "stream",
     "text": [
      "[1 2 3]\n"
     ]
    }
   ],
   "source": [
    "a = np.array([1,2,3])\n",
    "b = a.copy()\n",
    "b [0] =100\n",
    "print (a)"
   ]
  },
  {
   "cell_type": "code",
   "execution_count": 81,
   "id": "c88a67d1-1ec4-4b6f-bb20-3b9941c0931e",
   "metadata": {},
   "outputs": [
    {
     "name": "stdout",
     "output_type": "stream",
     "text": [
      "[1 2 3 4]\n"
     ]
    }
   ],
   "source": [
    "a = np.array([1,2,3,4])\n",
    "print(a)"
   ]
  },
  {
   "cell_type": "code",
   "execution_count": 82,
   "id": "12d220e5-bb06-4586-8713-dcaff2aa2b7f",
   "metadata": {},
   "outputs": [
    {
     "data": {
      "text/plain": [
       "array([3, 4, 5, 6])"
      ]
     },
     "execution_count": 82,
     "metadata": {},
     "output_type": "execute_result"
    }
   ],
   "source": [
    "a+=2\n",
    "a"
   ]
  },
  {
   "cell_type": "code",
   "execution_count": 83,
   "id": "245f52a8-4308-4ea6-a12d-91bdaf3c90e4",
   "metadata": {},
   "outputs": [
    {
     "data": {
      "text/plain": [
       "array([1, 2, 3, 4])"
      ]
     },
     "execution_count": 83,
     "metadata": {},
     "output_type": "execute_result"
    }
   ],
   "source": [
    "a -2"
   ]
  },
  {
   "cell_type": "code",
   "execution_count": 84,
   "id": "2d3f48de-61bf-482a-bd8e-6ca0aaa99de3",
   "metadata": {},
   "outputs": [
    {
     "data": {
      "text/plain": [
       "array([ 6,  8, 10, 12])"
      ]
     },
     "execution_count": 84,
     "metadata": {},
     "output_type": "execute_result"
    }
   ],
   "source": [
    "a *2"
   ]
  },
  {
   "cell_type": "code",
   "execution_count": 85,
   "id": "7eb14fcd-90ea-4072-835c-fdbd3f8ac500",
   "metadata": {},
   "outputs": [
    {
     "data": {
      "text/plain": [
       "array([1.5, 2. , 2.5, 3. ])"
      ]
     },
     "execution_count": 85,
     "metadata": {},
     "output_type": "execute_result"
    }
   ],
   "source": [
    "a/2"
   ]
  },
  {
   "cell_type": "code",
   "execution_count": 86,
   "id": "4a0ed39e-f641-4137-a6bc-ae366711898b",
   "metadata": {},
   "outputs": [
    {
     "data": {
      "text/plain": [
       "array([4, 4, 6, 6])"
      ]
     },
     "execution_count": 86,
     "metadata": {},
     "output_type": "execute_result"
    }
   ],
   "source": [
    "b = np.array([1,0,1,0])\n",
    "a + b"
   ]
  },
  {
   "cell_type": "code",
   "execution_count": 89,
   "id": "7d1d03c5-95b2-4d22-a19b-03804850977f",
   "metadata": {},
   "outputs": [
    {
     "data": {
      "text/plain": [
       "array([ 9, 16, 25, 36], dtype=int32)"
      ]
     },
     "execution_count": 89,
     "metadata": {},
     "output_type": "execute_result"
    }
   ],
   "source": [
    "a**2"
   ]
  },
  {
   "cell_type": "code",
   "execution_count": 91,
   "id": "1ba295e9-a1c3-4797-9aa2-cde1dd10d19b",
   "metadata": {},
   "outputs": [
    {
     "data": {
      "text/plain": [
       "array([ 0.14112001, -0.7568025 , -0.95892427, -0.2794155 ])"
      ]
     },
     "execution_count": 91,
     "metadata": {},
     "output_type": "execute_result"
    }
   ],
   "source": [
    "# Take the sin\n",
    "np.sin(a)"
   ]
  },
  {
   "cell_type": "code",
   "execution_count": null,
   "id": "05396a04-40fd-47ff-b0ac-8ceb7cc36a4c",
   "metadata": {},
   "outputs": [],
   "source": [
    "# Linear Algebra"
   ]
  },
  {
   "cell_type": "code",
   "execution_count": 94,
   "id": "038fdda0-9eba-404d-8795-1cb9d3b6cae4",
   "metadata": {},
   "outputs": [
    {
     "name": "stdout",
     "output_type": "stream",
     "text": [
      "[[1. 1. 1.]\n",
      " [1. 1. 1.]]\n",
      "[[2 2]\n",
      " [2 2]\n",
      " [2 2]]\n"
     ]
    },
    {
     "data": {
      "text/plain": [
       "array([[6., 6.],\n",
       "       [6., 6.]])"
      ]
     },
     "execution_count": 94,
     "metadata": {},
     "output_type": "execute_result"
    }
   ],
   "source": [
    "a = np.ones((2,3))\n",
    "print(a)\n",
    "\n",
    "b = np.full((3,2),2)\n",
    "print(b)\n",
    "np.matmul(a,b)"
   ]
  },
  {
   "cell_type": "code",
   "execution_count": 95,
   "id": "58176268-854d-4ddb-8d86-7c7477fc3554",
   "metadata": {},
   "outputs": [
    {
     "data": {
      "text/plain": [
       "1.0"
      ]
     },
     "execution_count": 95,
     "metadata": {},
     "output_type": "execute_result"
    }
   ],
   "source": [
    "# fIND THE DETERMINANT\n",
    "c = np.identity(3)\n",
    "np.linalg.det(c)"
   ]
  },
  {
   "cell_type": "code",
   "execution_count": null,
   "id": "0caf7f3b-102e-4b13-9a3d-d369217a4467",
   "metadata": {},
   "outputs": [],
   "source": [
    "# Statistics"
   ]
  },
  {
   "cell_type": "code",
   "execution_count": 97,
   "id": "6420eb45-2e69-40c2-95e7-484737eed059",
   "metadata": {},
   "outputs": [
    {
     "data": {
      "text/plain": [
       "array([[1, 2, 3],\n",
       "       [4, 5, 6]])"
      ]
     },
     "execution_count": 97,
     "metadata": {},
     "output_type": "execute_result"
    }
   ],
   "source": [
    "stats = np.array([[1,2,3], [4,5,6]])\n",
    "stats"
   ]
  },
  {
   "cell_type": "code",
   "execution_count": 98,
   "id": "c377d976-502f-4f9e-b54d-52eb5e8d22e5",
   "metadata": {},
   "outputs": [
    {
     "data": {
      "text/plain": [
       "array([1, 4])"
      ]
     },
     "execution_count": 98,
     "metadata": {},
     "output_type": "execute_result"
    }
   ],
   "source": [
    "np.min(stats, axis=1)"
   ]
  },
  {
   "cell_type": "code",
   "execution_count": 100,
   "id": "f7e71dfe-6b29-413a-b33e-e24dc5162364",
   "metadata": {},
   "outputs": [
    {
     "data": {
      "text/plain": [
       "array([3, 6])"
      ]
     },
     "execution_count": 100,
     "metadata": {},
     "output_type": "execute_result"
    }
   ],
   "source": [
    "np.max(stats, axis=1)"
   ]
  },
  {
   "cell_type": "code",
   "execution_count": 101,
   "id": "85ce53ab-a226-4665-bc0e-c878d687c576",
   "metadata": {},
   "outputs": [
    {
     "data": {
      "text/plain": [
       "array([5, 7, 9])"
      ]
     },
     "execution_count": 101,
     "metadata": {},
     "output_type": "execute_result"
    }
   ],
   "source": [
    "np.sum(stats, axis=0)"
   ]
  },
  {
   "cell_type": "code",
   "execution_count": null,
   "id": "7fcb1df7-fec2-4b08-b018-f0c969774513",
   "metadata": {},
   "outputs": [],
   "source": [
    "# REORGIANZING ARRAYS"
   ]
  },
  {
   "cell_type": "code",
   "execution_count": 103,
   "id": "df36bd25-a430-404c-bea7-9a6e5585f262",
   "metadata": {},
   "outputs": [
    {
     "name": "stdout",
     "output_type": "stream",
     "text": [
      "[[1 2 3 4]\n",
      " [5 6 7 8]]\n",
      "[[1]\n",
      " [2]\n",
      " [3]\n",
      " [4]\n",
      " [5]\n",
      " [6]\n",
      " [7]\n",
      " [8]]\n"
     ]
    }
   ],
   "source": [
    "before = np.array([[1,2,3,4],[5,6,7,8]])\n",
    "print(before)\n",
    "\n",
    "after=before.reshape((8,1))\n",
    "print(after)"
   ]
  },
  {
   "cell_type": "code",
   "execution_count": 104,
   "id": "5f6f17be-b45d-4aab-8a4d-7c0dabcc0c78",
   "metadata": {},
   "outputs": [
    {
     "data": {
      "text/plain": [
       "array([[1, 2, 3, 4],\n",
       "       [5, 6, 7, 8],\n",
       "       [1, 2, 3, 4],\n",
       "       [5, 6, 7, 8]])"
      ]
     },
     "execution_count": 104,
     "metadata": {},
     "output_type": "execute_result"
    }
   ],
   "source": [
    "# VERTICALLY STACKING VECTORS\n",
    "v1 = np.array([1,2,3,4])\n",
    "v2 = np.array([5,6,7,8])\n",
    "\n",
    "np.vstack([v1,v2,v1,v2])"
   ]
  },
  {
   "cell_type": "code",
   "execution_count": 105,
   "id": "25b5c29b-9cc4-4dbf-a256-4c6c56813e3e",
   "metadata": {},
   "outputs": [
    {
     "data": {
      "text/plain": [
       "array([[1., 1., 1., 1., 0., 0.],\n",
       "       [1., 1., 1., 1., 0., 0.]])"
      ]
     },
     "execution_count": 105,
     "metadata": {},
     "output_type": "execute_result"
    }
   ],
   "source": [
    "# HORIZONTAL STACK\n",
    "h1 = np.ones((2,4))\n",
    "h2= np.zeros((2,2))\n",
    "\n",
    "np.hstack([h1, h2])"
   ]
  },
  {
   "cell_type": "code",
   "execution_count": null,
   "id": "0233d019-1289-4b08-b582-8bfbef6b9d8f",
   "metadata": {},
   "outputs": [],
   "source": [
    "# LOAD DATA FROM A FILE"
   ]
  },
  {
   "cell_type": "code",
   "execution_count": null,
   "id": "b1097320-798b-40be-9fcd-7e185b1fe30b",
   "metadata": {},
   "outputs": [],
   "source": [
    "# BOOLEAN MASKING AND AVANCEED INDEXING"
   ]
  },
  {
   "cell_type": "code",
   "execution_count": null,
   "id": "5a19c95e-8e45-4650-ad2a-c8ca78cb3669",
   "metadata": {},
   "outputs": [],
   "source": [
    "filedata[filedata > 50]"
   ]
  },
  {
   "cell_type": "code",
   "execution_count": null,
   "id": "861c5a35-d54c-4089-b6fe-8bd38d848274",
   "metadata": {},
   "outputs": [],
   "source": [
    "# you can index with a list in NumPy"
   ]
  },
  {
   "cell_type": "code",
   "execution_count": null,
   "id": "821312d3-d1ea-454d-8a95-80194ac223f1",
   "metadata": {},
   "outputs": [],
   "source": [
    "a[2:4, 0:2]\n",
    "a[[0,1,2,3], [1,2,3,4]]\n",
    "a[[0,4,5], 3:]"
   ]
  },
  {
   "cell_type": "code",
   "execution_count": 111,
   "id": "8147b170-7c4f-4089-9b7c-5e60b530b238",
   "metadata": {},
   "outputs": [
    {
     "data": {
      "text/plain": [
       "False"
      ]
     },
     "execution_count": 111,
     "metadata": {},
     "output_type": "execute_result"
    }
   ],
   "source": [
    "0 * np.nan\n",
    "np.nan == np.nan\n",
    "np.inf > np.nan\n",
    "np.nan - np.nan\n",
    "np.nan in set([np.nan])\n",
    "0.3 == 3 * 0.1"
   ]
  },
  {
   "cell_type": "code",
   "execution_count": 112,
   "id": "d4bb4d11-51d2-4dbc-aca2-4cf4f7700734",
   "metadata": {},
   "outputs": [
    {
     "name": "stderr",
     "output_type": "stream",
     "text": [
      "<ipython-input-112-16339fbc685e>:1: RuntimeWarning: invalid value encountered in sqrt\n",
      "  np.sqrt(-1) == np.emath.sqrt(-1)\n"
     ]
    },
    {
     "data": {
      "text/plain": [
       "False"
      ]
     },
     "execution_count": 112,
     "metadata": {},
     "output_type": "execute_result"
    }
   ],
   "source": [
    "np.sqrt(-1) == np.emath.sqrt(-1)"
   ]
  },
  {
   "cell_type": "code",
   "execution_count": null,
   "id": "36f5b307-586d-4b8f-8ada-db6ac4dace0f",
   "metadata": {},
   "outputs": [],
   "source": []
  },
  {
   "cell_type": "code",
   "execution_count": null,
   "id": "135b01a7-1a74-48b9-9be0-e1be51cedc2d",
   "metadata": {},
   "outputs": [],
   "source": []
  }
 ],
 "metadata": {
  "kernelspec": {
   "display_name": "Python 3",
   "language": "python",
   "name": "python3"
  },
  "language_info": {
   "codemirror_mode": {
    "name": "ipython",
    "version": 3
   },
   "file_extension": ".py",
   "mimetype": "text/x-python",
   "name": "python",
   "nbconvert_exporter": "python",
   "pygments_lexer": "ipython3",
   "version": "3.8.8"
  }
 },
 "nbformat": 4,
 "nbformat_minor": 5
}
